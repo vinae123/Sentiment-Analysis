{
 "cells": [
  {
   "cell_type": "code",
   "execution_count": 5,
   "metadata": {},
   "outputs": [],
   "source": [
    "import numpy as np\n",
    "import pandas as pd\n",
    "import tensorflow as tf\n",
    "from sklearn.model_selection import train_test_split\n",
    "from sklearn.metrics import accuracy_score\n",
    "from tensorflow.keras.preprocessing.text import Tokenizer\n",
    "from tensorflow.keras.preprocessing.sequence import pad_sequences\n",
    "from tensorflow.keras.models import Sequential\n",
    "from tensorflow.keras.layers import Embedding, Conv1D, GlobalMaxPooling1D, Dense, Dropout\n",
    "import pickle as pickle"
   ]
  },
  {
   "cell_type": "code",
   "execution_count": 5,
   "metadata": {},
   "outputs": [
    {
     "name": "stdout",
     "output_type": "stream",
     "text": [
      "                                              Review  Rating\n",
      "0  nice hotel expensive parking got good deal sta...       4\n",
      "1  ok nothing special charge diamond member hilto...       2\n",
      "2  nice rooms not 4* experience hotel monaco seat...       3\n",
      "3  unique, great stay, wonderful time hotel monac...       5\n",
      "4  great stay great stay, went seahawk game aweso...       5\n"
     ]
    }
   ],
   "source": [
    "df = pd.read_csv(r'archive\\tripadvisor_hotel_reviews.csv')\n",
    "print(df.head())"
   ]
  },
  {
   "cell_type": "code",
   "execution_count": 6,
   "metadata": {},
   "outputs": [],
   "source": [
    "df = df[['Review', 'Rating']]\n",
    "df['sentiment'] = df['Rating'].apply(lambda x: 'positive' if x > 3 \n",
    "                                    else 'negative' if x < 3\n",
    "                                    else 'neutral')\n",
    "df = df[['Review', 'sentiment']]\n",
    "df = df.sample(frac=1).reset_index(drop=True)"
   ]
  },
  {
   "cell_type": "code",
   "execution_count": 7,
   "metadata": {},
   "outputs": [],
   "source": [
    "tokenizer = Tokenizer(num_words=5000, oov_token='<OOV>')\n",
    "tokenizer.fit_on_texts(df['Review'])\n",
    "word_index = tokenizer.word_index\n",
    "sequences = tokenizer.texts_to_sequences(df['Review'])\n",
    "padded_sequences = pad_sequences(sequences, maxlen=100, truncating='post')"
   ]
  },
  {
   "cell_type": "code",
   "execution_count": 8,
   "metadata": {},
   "outputs": [],
   "source": [
    "sentiment_labels = pd.get_dummies(df['sentiment']).values"
   ]
  },
  {
   "cell_type": "code",
   "execution_count": 9,
   "metadata": {},
   "outputs": [],
   "source": [
    "# Creating a train-test split\n",
    "x_train, x_test, y_train, y_test = train_test_split(padded_sequences, sentiment_labels, test_size=0.2)"
   ]
  },
  {
   "cell_type": "code",
   "execution_count": 10,
   "metadata": {},
   "outputs": [
    {
     "name": "stdout",
     "output_type": "stream",
     "text": [
      "Model: \"sequential\"\n",
      "_________________________________________________________________\n",
      " Layer (type)                Output Shape              Param #   \n",
      "=================================================================\n",
      " embedding (Embedding)       (None, 100, 100)          500000    \n",
      "                                                                 \n",
      " conv1d (Conv1D)             (None, 96, 64)            32064     \n",
      "                                                                 \n",
      " global_max_pooling1d (Globa  (None, 64)               0         \n",
      " lMaxPooling1D)                                                  \n",
      "                                                                 \n",
      " dense (Dense)               (None, 32)                2080      \n",
      "                                                                 \n",
      " dropout (Dropout)           (None, 32)                0         \n",
      "                                                                 \n",
      " dense_1 (Dense)             (None, 3)                 99        \n",
      "                                                                 \n",
      "=================================================================\n",
      "Total params: 534,243\n",
      "Trainable params: 534,243\n",
      "Non-trainable params: 0\n",
      "_________________________________________________________________\n"
     ]
    }
   ],
   "source": [
    "# Adding layers to the model\n",
    "model = Sequential()\n",
    "model.add(Embedding(5000, 100, input_length=100))\n",
    "model.add(Conv1D(64, 5, activation='relu'))\n",
    "model.add(GlobalMaxPooling1D())\n",
    "model.add(Dense(32, activation='relu'))\n",
    "model.add(Dropout(0.5))\n",
    "model.add(Dense(3, activation='softmax'))\n",
    "model.compile(optimizer='adam', loss='categorical_crossentropy', metrics=['accuracy'])\n",
    "model.summary()"
   ]
  },
  {
   "cell_type": "code",
   "execution_count": 11,
   "metadata": {},
   "outputs": [
    {
     "name": "stdout",
     "output_type": "stream",
     "text": [
      "Epoch 1/10\n",
      "513/513 [==============================] - 8s 14ms/step - loss: 0.5805 - accuracy: 0.7864 - val_loss: 0.4399 - val_accuracy: 0.8351\n",
      "Epoch 2/10\n",
      "513/513 [==============================] - 7s 14ms/step - loss: 0.3768 - accuracy: 0.8564 - val_loss: 0.4068 - val_accuracy: 0.8463\n",
      "Epoch 3/10\n",
      "513/513 [==============================] - 7s 13ms/step - loss: 0.2639 - accuracy: 0.8957 - val_loss: 0.4189 - val_accuracy: 0.8365\n",
      "Epoch 4/10\n",
      "513/513 [==============================] - 7s 13ms/step - loss: 0.1805 - accuracy: 0.9323 - val_loss: 0.5510 - val_accuracy: 0.8456\n",
      "Epoch 5/10\n",
      "513/513 [==============================] - 7s 13ms/step - loss: 0.1223 - accuracy: 0.9562 - val_loss: 0.5800 - val_accuracy: 0.8219\n",
      "Epoch 6/10\n",
      "513/513 [==============================] - 7s 13ms/step - loss: 0.0844 - accuracy: 0.9725 - val_loss: 0.6692 - val_accuracy: 0.8231\n",
      "Epoch 7/10\n",
      "513/513 [==============================] - 7s 13ms/step - loss: 0.0537 - accuracy: 0.9824 - val_loss: 0.9250 - val_accuracy: 0.8346\n",
      "Epoch 8/10\n",
      "513/513 [==============================] - 7s 13ms/step - loss: 0.0392 - accuracy: 0.9876 - val_loss: 0.8913 - val_accuracy: 0.8153\n",
      "Epoch 9/10\n",
      "513/513 [==============================] - 7s 13ms/step - loss: 0.0346 - accuracy: 0.9896 - val_loss: 1.0045 - val_accuracy: 0.8270\n",
      "Epoch 10/10\n",
      "513/513 [==============================] - 7s 13ms/step - loss: 0.0267 - accuracy: 0.9909 - val_loss: 1.1758 - val_accuracy: 0.8297\n"
     ]
    },
    {
     "data": {
      "text/plain": [
       "<keras.callbacks.History at 0x24c5fa993d0>"
      ]
     },
     "execution_count": 11,
     "metadata": {},
     "output_type": "execute_result"
    }
   ],
   "source": [
    "model.fit(x_train, y_train, epochs=10, batch_size=32, validation_data=(x_test, y_test))"
   ]
  },
  {
   "cell_type": "code",
   "execution_count": 12,
   "metadata": {},
   "outputs": [
    {
     "name": "stdout",
     "output_type": "stream",
     "text": [
      "129/129 [==============================] - 0s 3ms/step\n",
      "Accuracy: 0.8297145645279337\n"
     ]
    }
   ],
   "source": [
    "y_pred = np.argmax(model.predict(x_test), axis=-1)\n",
    "print(\"Accuracy:\", accuracy_score(np.argmax(y_test, axis=-1), y_pred))"
   ]
  },
  {
   "cell_type": "markdown",
   "metadata": {},
   "source": [
    "## Saving the model"
   ]
  },
  {
   "cell_type": "code",
   "execution_count": 13,
   "metadata": {},
   "outputs": [],
   "source": [
    "model.save('sentiment_analysis_model.h5')\n",
    "with open('tokenizer.pickle', 'wb') as handle:\n",
    "    pickle.dump(tokenizer, handle, protocol=pickle.HIGHEST_PROTOCOL)"
   ]
  },
  {
   "cell_type": "markdown",
   "metadata": {},
   "source": [
    "# Loading the Model"
   ]
  },
  {
   "cell_type": "code",
   "execution_count": 2,
   "metadata": {},
   "outputs": [],
   "source": [
    "import keras\n",
    "import pickle\n",
    "\n",
    "model = keras.models.load_model('sentiment_analysis_model.h5')\n",
    "with open('tokenizer.pickle','rb') as handle:\n",
    "    tokenizer = pickle.load(handle)"
   ]
  },
  {
   "cell_type": "code",
   "execution_count": 6,
   "metadata": {},
   "outputs": [],
   "source": [
    "def predict_sentiment(text):\n",
    "    # Tokenize and pad the input text\n",
    "    text_sequence = tokenizer.texts_to_sequences([text])\n",
    "    text_sequence = pad_sequences(text_sequence, maxlen=100)\n",
    "\n",
    "    # Make a prediction using the trained model\n",
    "    predicted_rating = model.predict(text_sequence)[0]\n",
    "    if np.argmax(predicted_rating) == 0:\n",
    "        return 'Negative'\n",
    "    elif np.argmax(predicted_rating) == 1:\n",
    "        return 'Neutral'\n",
    "    else:\n",
    "        return 'Positive'"
   ]
  },
  {
   "cell_type": "code",
   "execution_count": 11,
   "metadata": {},
   "outputs": [
    {
     "name": "stdout",
     "output_type": "stream",
     "text": [
      "1/1 [==============================] - 0s 17ms/step\n",
      "Positive\n"
     ]
    }
   ],
   "source": [
    "text_input = \"It's an best place\"\n",
    "predicted_sentiment = predict_sentiment(text_input)\n",
    "print(predicted_sentiment)"
   ]
  }
 ],
 "metadata": {
  "kernelspec": {
   "display_name": "Python 3",
   "language": "python",
   "name": "python3"
  },
  "language_info": {
   "codemirror_mode": {
    "name": "ipython",
    "version": 3
   },
   "file_extension": ".py",
   "mimetype": "text/x-python",
   "name": "python",
   "nbconvert_exporter": "python",
   "pygments_lexer": "ipython3",
   "version": "3.11.5"
  }
 },
 "nbformat": 4,
 "nbformat_minor": 2
}
